{
 "cells": [
  {
   "cell_type": "code",
   "execution_count": 1,
   "id": "69c9b0f0",
   "metadata": {},
   "outputs": [],
   "source": [
    "import tensorflow as tf\n",
    "from tensorflow import keras\n",
    "from tensorflow.keras.models import load_model"
   ]
  },
  {
   "cell_type": "code",
   "execution_count": 1,
   "id": "f653d02e",
   "metadata": {},
   "outputs": [],
   "source": [
    "NasNet = load_model('my_firstModel')"
   ]
  },
  {
   "cell_type": "code",
   "execution_count": 2,
   "id": "d924be6d",
   "metadata": {},
   "outputs": [],
   "source": [
    "# Convert the model\n",
    "converter_1 = tf.lite.TFLiteConverter.from_keras_model(NasNet)\n",
    "converter_2 = tf.lite.TFLiteConverter.from_saved_model('my_secondModel')\n",
    "converter_3 = tf.lite.TFLiteConverter.from_saved_model('segModel')\n",
    "tflite_model_1 = converter_1.convert()\n",
    "tflite_model_2 = converter_2.convert()\n",
    "tflite_model_3 = converter_3.convert()"
   ]
  },
  {
   "cell_type": "code",
   "execution_count": null,
   "id": "e9b12900",
   "metadata": {},
   "outputs": [],
   "source": [
    "# Save the model.\n",
    "with open('NasNetModel.tflite', 'wb') as f:\n",
    "  f.write(tflite_NasNet)"
   ]
  },
  {
   "cell_type": "code",
   "execution_count": null,
   "id": "2eaaf597",
   "metadata": {},
   "outputs": [],
   "source": [
    "# Save the model.\n",
    "with open('MobileNetModel.tflite', 'wb') as f:\n",
    "  f.write(tflite_model_2)"
   ]
  },
  {
   "cell_type": "code",
   "execution_count": null,
   "id": "fe48a0e9",
   "metadata": {},
   "outputs": [],
   "source": [
    "# Save the model.\n",
    "with open('SegModel.tflite', 'wb') as f:\n",
    "  f.write(tflite_model_3)"
   ]
  },
  {
   "cell_type": "code",
   "execution_count": null,
   "id": "543932d6",
   "metadata": {},
   "outputs": [],
   "source": [
    "\n"
   ]
  }
 ],
 "metadata": {
  "kernelspec": {
   "display_name": "Python 3",
   "language": "python",
   "name": "python3"
  },
  "language_info": {
   "codemirror_mode": {
    "name": "ipython",
    "version": 3
   },
   "file_extension": ".py",
   "mimetype": "text/x-python",
   "name": "python",
   "nbconvert_exporter": "python",
   "pygments_lexer": "ipython3",
   "version": "3.9.5"
  }
 },
 "nbformat": 4,
 "nbformat_minor": 5
}
